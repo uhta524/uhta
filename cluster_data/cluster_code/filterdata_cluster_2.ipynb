{
 "cells": [
  {
   "cell_type": "code",
   "execution_count": 1,
   "metadata": {},
   "outputs": [
    {
     "name": "stderr",
     "output_type": "stream",
     "text": [
      "/home/manish/anaconda3/lib/python3.7/site-packages/ipykernel_launcher.py:13: SettingWithCopyWarning: \n",
      "A value is trying to be set on a copy of a slice from a DataFrame\n",
      "\n",
      "See the caveats in the documentation: https://pandas.pydata.org/pandas-docs/stable/user_guide/indexing.html#returning-a-view-versus-a-copy\n",
      "  del sys.path[0]\n",
      "/home/manish/anaconda3/lib/python3.7/site-packages/ipykernel_launcher.py:14: SettingWithCopyWarning: \n",
      "A value is trying to be set on a copy of a slice from a DataFrame.\n",
      "Try using .loc[row_indexer,col_indexer] = value instead\n",
      "\n",
      "See the caveats in the documentation: https://pandas.pydata.org/pandas-docs/stable/user_guide/indexing.html#returning-a-view-versus-a-copy\n",
      "  \n"
     ]
    },
    {
     "data": {
      "text/html": [
       "<div>\n",
       "<style scoped>\n",
       "    .dataframe tbody tr th:only-of-type {\n",
       "        vertical-align: middle;\n",
       "    }\n",
       "\n",
       "    .dataframe tbody tr th {\n",
       "        vertical-align: top;\n",
       "    }\n",
       "\n",
       "    .dataframe thead th {\n",
       "        text-align: right;\n",
       "    }\n",
       "</style>\n",
       "<table border=\"1\" class=\"dataframe\">\n",
       "  <thead>\n",
       "    <tr style=\"text-align: right;\">\n",
       "      <th></th>\n",
       "      <th>0</th>\n",
       "      <th>1</th>\n",
       "      <th>2</th>\n",
       "      <th>3</th>\n",
       "      <th>4</th>\n",
       "      <th>5</th>\n",
       "      <th>6</th>\n",
       "      <th>7</th>\n",
       "      <th>8</th>\n",
       "      <th>9</th>\n",
       "      <th>10</th>\n",
       "      <th>11</th>\n",
       "      <th>12</th>\n",
       "    </tr>\n",
       "  </thead>\n",
       "  <tbody>\n",
       "    <tr>\n",
       "      <th>0</th>\n",
       "      <td>0.0</td>\n",
       "      <td>0.037671</td>\n",
       "      <td>0.056911</td>\n",
       "      <td>0.060762</td>\n",
       "      <td>0.551868</td>\n",
       "      <td>0.092257</td>\n",
       "      <td>0.183784</td>\n",
       "      <td>0.063637</td>\n",
       "      <td>0.0</td>\n",
       "      <td>0.410788</td>\n",
       "      <td>0.001916</td>\n",
       "      <td>0.016142</td>\n",
       "      <td>0.008332</td>\n",
       "    </tr>\n",
       "    <tr>\n",
       "      <th>1</th>\n",
       "      <td>0.0</td>\n",
       "      <td>0.031097</td>\n",
       "      <td>0.052770</td>\n",
       "      <td>0.058365</td>\n",
       "      <td>0.551868</td>\n",
       "      <td>0.093296</td>\n",
       "      <td>0.184954</td>\n",
       "      <td>0.064591</td>\n",
       "      <td>0.0</td>\n",
       "      <td>0.411014</td>\n",
       "      <td>0.006060</td>\n",
       "      <td>0.013745</td>\n",
       "      <td>0.007271</td>\n",
       "    </tr>\n",
       "    <tr>\n",
       "      <th>2</th>\n",
       "      <td>0.0</td>\n",
       "      <td>0.023727</td>\n",
       "      <td>0.048485</td>\n",
       "      <td>0.056005</td>\n",
       "      <td>0.551868</td>\n",
       "      <td>0.093547</td>\n",
       "      <td>0.197595</td>\n",
       "      <td>0.061573</td>\n",
       "      <td>0.0</td>\n",
       "      <td>0.411014</td>\n",
       "      <td>0.009960</td>\n",
       "      <td>0.013994</td>\n",
       "      <td>0.007173</td>\n",
       "    </tr>\n",
       "    <tr>\n",
       "      <th>3</th>\n",
       "      <td>0.0</td>\n",
       "      <td>0.040865</td>\n",
       "      <td>0.051416</td>\n",
       "      <td>0.053675</td>\n",
       "      <td>0.551868</td>\n",
       "      <td>0.095138</td>\n",
       "      <td>0.195782</td>\n",
       "      <td>0.063981</td>\n",
       "      <td>0.0</td>\n",
       "      <td>0.411014</td>\n",
       "      <td>0.013837</td>\n",
       "      <td>0.013654</td>\n",
       "      <td>0.007223</td>\n",
       "    </tr>\n",
       "    <tr>\n",
       "      <th>4</th>\n",
       "      <td>0.0</td>\n",
       "      <td>0.048426</td>\n",
       "      <td>0.053687</td>\n",
       "      <td>0.053792</td>\n",
       "      <td>0.551868</td>\n",
       "      <td>0.094865</td>\n",
       "      <td>0.192570</td>\n",
       "      <td>0.064493</td>\n",
       "      <td>0.0</td>\n",
       "      <td>0.411014</td>\n",
       "      <td>0.017774</td>\n",
       "      <td>0.014361</td>\n",
       "      <td>0.007489</td>\n",
       "    </tr>\n",
       "  </tbody>\n",
       "</table>\n",
       "</div>"
      ],
      "text/plain": [
       "     0         1         2         3         4         5         6         7  \\\n",
       "0  0.0  0.037671  0.056911  0.060762  0.551868  0.092257  0.183784  0.063637   \n",
       "1  0.0  0.031097  0.052770  0.058365  0.551868  0.093296  0.184954  0.064591   \n",
       "2  0.0  0.023727  0.048485  0.056005  0.551868  0.093547  0.197595  0.061573   \n",
       "3  0.0  0.040865  0.051416  0.053675  0.551868  0.095138  0.195782  0.063981   \n",
       "4  0.0  0.048426  0.053687  0.053792  0.551868  0.094865  0.192570  0.064493   \n",
       "\n",
       "     8         9        10        11        12  \n",
       "0  0.0  0.410788  0.001916  0.016142  0.008332  \n",
       "1  0.0  0.411014  0.006060  0.013745  0.007271  \n",
       "2  0.0  0.411014  0.009960  0.013994  0.007173  \n",
       "3  0.0  0.411014  0.013837  0.013654  0.007223  \n",
       "4  0.0  0.411014  0.017774  0.014361  0.007489  "
      ]
     },
     "execution_count": 1,
     "metadata": {},
     "output_type": "execute_result"
    }
   ],
   "source": [
    "import pandas as pd\n",
    "from sklearn.cluster import KMeans\n",
    "from sklearn.cluster import AgglomerativeClustering\n",
    "from sklearn import preprocessing\n",
    " \n",
    "import numpy as np\n",
    "data = pd.read_csv(\"https://raw.githubusercontent.com/Man1ish/datarepo/master/finaldata_filter.csv\")\n",
    "columns_of_interest = ['total_memory', 'free_memory', 'available_memory', 'cache_memory',\n",
    "       'swap_total_memory', 'app_total_memory', 'app_free_memory',\n",
    "       'app_used_memory', 'no_of_processor', 'max_cpu_frequency', 'cputime','energy','time']\n",
    "data_interest = data[columns_of_interest]\n",
    "data_interest.describe()\n",
    "data_interest.dropna(inplace=True)\n",
    "data_interest['time'] = data_interest['time'] * 0.001\n",
    "x = data_interest.values #returns a numpy array\n",
    "min_max_scaler = preprocessing.MinMaxScaler()\n",
    "x_scaled = min_max_scaler.fit_transform(x)\n",
    "df = pd.DataFrame(x_scaled)\n",
    "df.head()"
   ]
  },
  {
   "cell_type": "code",
   "execution_count": 2,
   "metadata": {},
   "outputs": [
    {
     "name": "stderr",
     "output_type": "stream",
     "text": [
      "/home/manish/anaconda3/lib/python3.7/site-packages/sklearn/cluster/_kmeans.py:934: FutureWarning: 'precompute_distances' was deprecated in version 0.23 and will be removed in 0.25. It has no effect\n",
      "  \"effect\", FutureWarning)\n",
      "/home/manish/anaconda3/lib/python3.7/site-packages/sklearn/cluster/_kmeans.py:939: FutureWarning: 'n_jobs' was deprecated in version 0.23 and will be removed in 0.25.\n",
      "  \" removed in 0.25.\", FutureWarning)\n"
     ]
    },
    {
     "data": {
      "text/plain": [
       "KMeans(n_clusters=2, n_jobs=-1, precompute_distances='auto')"
      ]
     },
     "execution_count": 2,
     "metadata": {},
     "output_type": "execute_result"
    }
   ],
   "source": [
    "#### data_interest.fillna(data_interest.mean(), inplace=True)\n",
    "clustering_kmeans = KMeans(n_clusters=2, precompute_distances=\"auto\", n_jobs=-1)\n",
    "clustering_kmeans.fit(df) "
   ]
  },
  {
   "cell_type": "code",
   "execution_count": 3,
   "metadata": {},
   "outputs": [
    {
     "data": {
      "text/plain": [
       "2605"
      ]
     },
     "execution_count": 3,
     "metadata": {},
     "output_type": "execute_result"
    }
   ],
   "source": [
    "column = data[\"energy\"]\n",
    "max_index = column.idxmax()\n",
    "max_index"
   ]
  },
  {
   "cell_type": "code",
   "execution_count": 4,
   "metadata": {},
   "outputs": [
    {
     "name": "stderr",
     "output_type": "stream",
     "text": [
      "/home/manish/anaconda3/lib/python3.7/site-packages/ipykernel_launcher.py:2: SettingWithCopyWarning: \n",
      "A value is trying to be set on a copy of a slice from a DataFrame.\n",
      "Try using .loc[row_indexer,col_indexer] = value instead\n",
      "\n",
      "See the caveats in the documentation: https://pandas.pydata.org/pandas-docs/stable/user_guide/indexing.html#returning-a-view-versus-a-copy\n",
      "  \n",
      "/home/manish/anaconda3/lib/python3.7/site-packages/ipykernel_launcher.py:3: SettingWithCopyWarning: \n",
      "A value is trying to be set on a copy of a slice from a DataFrame.\n",
      "Try using .loc[row_indexer,col_indexer] = value instead\n",
      "\n",
      "See the caveats in the documentation: https://pandas.pydata.org/pandas-docs/stable/user_guide/indexing.html#returning-a-view-versus-a-copy\n",
      "  This is separate from the ipykernel package so we can avoid doing imports until\n",
      "/home/manish/anaconda3/lib/python3.7/site-packages/ipykernel_launcher.py:4: SettingWithCopyWarning: \n",
      "A value is trying to be set on a copy of a slice from a DataFrame.\n",
      "Try using .loc[row_indexer,col_indexer] = value instead\n",
      "\n",
      "See the caveats in the documentation: https://pandas.pydata.org/pandas-docs/stable/user_guide/indexing.html#returning-a-view-versus-a-copy\n",
      "  after removing the cwd from sys.path.\n",
      "/home/manish/anaconda3/lib/python3.7/site-packages/seaborn/regression.py:546: UserWarning: The `size` paramter has been renamed to `height`; please update your code.\n",
      "  warnings.warn(msg, UserWarning)\n"
     ]
    },
    {
     "data": {
      "text/plain": [
       "<seaborn.axisgrid.FacetGrid at 0x7f38a048c890>"
      ]
     },
     "execution_count": 4,
     "metadata": {},
     "output_type": "execute_result"
    },
    {
     "data": {
      "image/png": "[encoded data removed]",
      "text/plain": [
       "<Figure size 474.375x432 with 1 Axes>"
      ]
     },
     "metadata": {
      "needs_background": "light"
     },
     "output_type": "display_data"
    }
   ],
   "source": [
    "import seaborn as sns\n",
    "data_interest[\"cluster\"] = clustering_kmeans.labels_\n",
    "data_interest[\"process\"] = data[\"process\"]\n",
    "data_interest[\"energy\"] = data[\"energy\"]\n",
    "\n",
    "sns.lmplot('energy','time',data=data_interest,hue='cluster', palette='coolwarm', size=6, aspect=1, fit_reg=False)"
   ]
  },
  {
   "cell_type": "code",
   "execution_count": 5,
   "metadata": {},
   "outputs": [
    {
     "data": {
      "text/plain": [
       "array([1, 1, 1, ..., 0, 0, 0], dtype=int32)"
      ]
     },
     "execution_count": 5,
     "metadata": {},
     "output_type": "execute_result"
    }
   ],
   "source": [
    "labels = clustering_kmeans.labels_\n",
    "labels.size\n",
    "labels"
   ]
  },
  {
   "cell_type": "code",
   "execution_count": 6,
   "metadata": {},
   "outputs": [
    {
     "data": {
      "text/plain": [
       "{0: 1394, 1: 5609}"
      ]
     },
     "execution_count": 6,
     "metadata": {},
     "output_type": "execute_result"
    }
   ],
   "source": [
    "#Cluster \n",
    "unique, counts = np.unique(labels, return_counts=True)\n",
    "dict(zip(unique, counts))"
   ]
  },
  {
   "cell_type": "code",
   "execution_count": 12,
   "metadata": {},
   "outputs": [],
   "source": [
    "data['label'] = labels"
   ]
  },
  {
   "cell_type": "code",
   "execution_count": 13,
   "metadata": {},
   "outputs": [],
   "source": [
    "label = 2\n",
    "label0 = data[data['label'] == 0]\n",
    "label0.to_csv('filter/cluster2/cat0.csv')\n",
    "\n",
    "label1 = data[data['label'] == 1]\n",
    "label1.to_csv('filter/cluster2/cat1.csv')"
   ]
  },
  {
   "cell_type": "code",
   "execution_count": null,
   "metadata": {},
   "outputs": [],
   "source": []
  }
 ],
 "metadata": {
  "kernelspec": {
   "display_name": "Python 3",
   "language": "python",
   "name": "python3"
  },
  "language_info": {
   "codemirror_mode": {
    "name": "ipython",
    "version": 3
   },
   "file_extension": ".py",
   "mimetype": "text/x-python",
   "name": "python",
   "nbconvert_exporter": "python",
   "pygments_lexer": "ipython3",
   "version": "3.7.8"
  }
 },
 "nbformat": 4,
 "nbformat_minor": 4
}
